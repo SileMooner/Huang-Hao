{
 "cells": [
  {
   "cell_type": "code",
   "execution_count": null,
   "metadata": {},
   "outputs": [],
   "source": [
    "import nltk\n",
    "from nltk.corpus import brown\n",
    "from nltk import bigrams\n",
    "from nltk.probability import FreqDist\n",
    "\n",
    "# 确保已经下载了brown语料库\n",
    "nltk.download('brown')\n",
    "\n",
    "# 加载Brown语料库\n",
    "words = brown.words()\n",
    "\n",
    "# 生成bigram列表\n",
    "bigram_list = list(bigrams(words))\n",
    "\n",
    "# 计算bigram的频率分布\n",
    "bigram_freq = FreqDist(bigram_list)\n"
   ]
  },
  {
   "cell_type": "code",
   "execution_count": null,
   "metadata": {},
   "outputs": [],
   "source": [
    "# 打印出最常见的10个bigram\n",
    "most_common_bigrams = bigram_freq.most_common(10)\n",
    "print(\"Most common bigrams:\", most_common_bigrams)"
   ]
  },
  {
   "cell_type": "code",
   "execution_count": null,
   "metadata": {},
   "outputs": [],
   "source": [
    "import numpy as np\n",
    "\n",
    "def calculate_mean_variance(bigram):\n",
    "    positions = [i for i, bg in enumerate(bigram_list) if bg == bigram]\n",
    "    distances = [positions[i] - positions[i - 1] for i in range(1, len(positions))]\n",
    "    mean = np.mean(distances)\n",
    "    variance = np.var(distances)\n",
    "    return mean, variance\n",
    "\n",
    "# 示例bigram\n",
    "sample_bigram = ('the', 'of')\n",
    "mean, variance = calculate_mean_variance(sample_bigram)\n",
    "print(f\"Mean distance for {sample_bigram}: {mean}\")\n",
    "print(f\"Variance of distance for {sample_bigram}: {variance}\")\n"
   ]
  },
  {
   "cell_type": "code",
   "execution_count": null,
   "metadata": {},
   "outputs": [],
   "source": [
    "from scipy.stats import ttest_1samp\n",
    "\n",
    "# 计算样本均值和标准偏差\n",
    "sample_mean = mean\n",
    "sample_std = np.std(distances)\n",
    "n = len(distances)\n",
    "\n",
    "# Null hypothesis mean (通常基于具体问题设置)\n",
    "null_hypothesis_mean = 100\n",
    "\n",
    "# 进行t检验\n",
    "t_stat, p_value = ttest_1samp(distances, null_hypothesis_mean)\n",
    "print(f\"T-statistic: {t_stat}, P-value: {p_value}\")\n"
   ]
  },
  {
   "cell_type": "code",
   "execution_count": null,
   "metadata": {},
   "outputs": [],
   "source": [
    "from statsmodels.stats.weightstats import ztest\n",
    "\n",
    "# 使用z检验评估均值\n",
    "z_stat, z_p_value = ztest(distances, value=null_hypothesis_mean)\n",
    "print(f\"Z-statistic: {z_stat}, P-value: {z_p_value}\")\n"
   ]
  }
 ],
 "metadata": {
  "kernelspec": {
   "display_name": "pytorch",
   "language": "python",
   "name": "python3"
  },
  "language_info": {
   "name": "python",
   "version": "3.6.13"
  }
 },
 "nbformat": 4,
 "nbformat_minor": 2
}
